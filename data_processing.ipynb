{
 "cells": [
  {
   "cell_type": "markdown",
   "metadata": {},
   "source": [
    "### **1. Library Installation**"
   ]
  },
  {
   "cell_type": "code",
   "execution_count": 139,
   "metadata": {},
   "outputs": [
    {
     "data": {
      "text/plain": [
       "'\\n%pip install folium\\n%pip install requests\\n%pip install pandas\\n'"
      ]
     },
     "execution_count": 139,
     "metadata": {},
     "output_type": "execute_result"
    }
   ],
   "source": [
    "'''\n",
    "%pip install folium\n",
    "%pip install requests\n",
    "%pip install pandas\n",
    "'''"
   ]
  },
  {
   "cell_type": "markdown",
   "metadata": {},
   "source": [
    "### **2. Library Importing**"
   ]
  },
  {
   "cell_type": "code",
   "execution_count": 140,
   "metadata": {},
   "outputs": [],
   "source": [
    "import pandas as pd\n",
    "import folium\n",
    "import requests"
   ]
  },
  {
   "cell_type": "markdown",
   "metadata": {},
   "source": [
    "### **3. Data Preprocessing**"
   ]
  },
  {
   "cell_type": "markdown",
   "metadata": {},
   "source": [
    "**3.1 General Exploring and Cleaning**"
   ]
  },
  {
   "cell_type": "code",
   "execution_count": 141,
   "metadata": {},
   "outputs": [],
   "source": [
    "# Reading Metro Network '.csv' file into a pandas dataframe\n",
    "data = pd.read_csv(\"data\\\\Delhi-Metro-Network.csv\")"
   ]
  },
  {
   "cell_type": "code",
   "execution_count": 142,
   "metadata": {},
   "outputs": [
    {
     "data": {
      "text/html": [
       "<div>\n",
       "<style scoped>\n",
       "    .dataframe tbody tr th:only-of-type {\n",
       "        vertical-align: middle;\n",
       "    }\n",
       "\n",
       "    .dataframe tbody tr th {\n",
       "        vertical-align: top;\n",
       "    }\n",
       "\n",
       "    .dataframe thead th {\n",
       "        text-align: right;\n",
       "    }\n",
       "</style>\n",
       "<table border=\"1\" class=\"dataframe\">\n",
       "  <thead>\n",
       "    <tr style=\"text-align: right;\">\n",
       "      <th></th>\n",
       "      <th>Station ID</th>\n",
       "      <th>Station Name</th>\n",
       "      <th>Distance from Start (km)</th>\n",
       "      <th>Line</th>\n",
       "      <th>Opening Date</th>\n",
       "      <th>Station Layout</th>\n",
       "      <th>Latitude</th>\n",
       "      <th>Longitude</th>\n",
       "    </tr>\n",
       "  </thead>\n",
       "  <tbody>\n",
       "    <tr>\n",
       "      <th>0</th>\n",
       "      <td>1</td>\n",
       "      <td>Jhil Mil</td>\n",
       "      <td>10.3</td>\n",
       "      <td>Red line</td>\n",
       "      <td>2008-04-06</td>\n",
       "      <td>Elevated</td>\n",
       "      <td>28.675790</td>\n",
       "      <td>77.312390</td>\n",
       "    </tr>\n",
       "    <tr>\n",
       "      <th>1</th>\n",
       "      <td>2</td>\n",
       "      <td>Welcome [Conn: Red]</td>\n",
       "      <td>46.8</td>\n",
       "      <td>Pink line</td>\n",
       "      <td>2018-10-31</td>\n",
       "      <td>Elevated</td>\n",
       "      <td>28.671800</td>\n",
       "      <td>77.277560</td>\n",
       "    </tr>\n",
       "    <tr>\n",
       "      <th>2</th>\n",
       "      <td>3</td>\n",
       "      <td>DLF Phase 3</td>\n",
       "      <td>10.0</td>\n",
       "      <td>Rapid Metro</td>\n",
       "      <td>2013-11-14</td>\n",
       "      <td>Elevated</td>\n",
       "      <td>28.493600</td>\n",
       "      <td>77.093500</td>\n",
       "    </tr>\n",
       "    <tr>\n",
       "      <th>3</th>\n",
       "      <td>4</td>\n",
       "      <td>Okhla NSIC</td>\n",
       "      <td>23.8</td>\n",
       "      <td>Magenta line</td>\n",
       "      <td>2017-12-25</td>\n",
       "      <td>Elevated</td>\n",
       "      <td>28.554483</td>\n",
       "      <td>77.264849</td>\n",
       "    </tr>\n",
       "    <tr>\n",
       "      <th>4</th>\n",
       "      <td>5</td>\n",
       "      <td>Dwarka Mor</td>\n",
       "      <td>10.2</td>\n",
       "      <td>Blue line</td>\n",
       "      <td>2005-12-30</td>\n",
       "      <td>Elevated</td>\n",
       "      <td>28.619320</td>\n",
       "      <td>77.033260</td>\n",
       "    </tr>\n",
       "  </tbody>\n",
       "</table>\n",
       "</div>"
      ],
      "text/plain": [
       "   Station ID         Station Name  Distance from Start (km)          Line  \\\n",
       "0           1             Jhil Mil                      10.3      Red line   \n",
       "1           2  Welcome [Conn: Red]                      46.8     Pink line   \n",
       "2           3          DLF Phase 3                      10.0   Rapid Metro   \n",
       "3           4           Okhla NSIC                      23.8  Magenta line   \n",
       "4           5           Dwarka Mor                      10.2     Blue line   \n",
       "\n",
       "  Opening Date Station Layout   Latitude  Longitude  \n",
       "0   2008-04-06       Elevated  28.675790  77.312390  \n",
       "1   2018-10-31       Elevated  28.671800  77.277560  \n",
       "2   2013-11-14       Elevated  28.493600  77.093500  \n",
       "3   2017-12-25       Elevated  28.554483  77.264849  \n",
       "4   2005-12-30       Elevated  28.619320  77.033260  "
      ]
     },
     "execution_count": 142,
     "metadata": {},
     "output_type": "execute_result"
    }
   ],
   "source": [
    "data.head()"
   ]
  },
  {
   "cell_type": "code",
   "execution_count": 143,
   "metadata": {},
   "outputs": [
    {
     "data": {
      "text/plain": [
       "(285, 8)"
      ]
     },
     "execution_count": 143,
     "metadata": {},
     "output_type": "execute_result"
    }
   ],
   "source": [
    "# Checking data dimensionality\n",
    "data.shape"
   ]
  },
  {
   "cell_type": "code",
   "execution_count": 144,
   "metadata": {},
   "outputs": [
    {
     "name": "stdout",
     "output_type": "stream",
     "text": [
      "Station ID                  0\n",
      "Station Name                0\n",
      "Distance from Start (km)    0\n",
      "Line                        0\n",
      "Opening Date                0\n",
      "Station Layout              0\n",
      "Latitude                    0\n",
      "Longitude                   0\n",
      "dtype: int64\n"
     ]
    }
   ],
   "source": [
    "# Checking for null data in all columns\n",
    "null_counts = data.isnull().sum()\n",
    "print(null_counts)"
   ]
  },
  {
   "cell_type": "code",
   "execution_count": 145,
   "metadata": {},
   "outputs": [
    {
     "data": {
      "text/plain": [
       "Index(['Station ID', 'Station Name', 'Distance from Start (km)', 'Line',\n",
       "       'Opening Date', 'Station Layout', 'Latitude', 'Longitude'],\n",
       "      dtype='object')"
      ]
     },
     "execution_count": 145,
     "metadata": {},
     "output_type": "execute_result"
    }
   ],
   "source": [
    "# Exploring the columns of the dataframe\n",
    "data.columns"
   ]
  },
  {
   "cell_type": "code",
   "execution_count": 146,
   "metadata": {},
   "outputs": [],
   "source": [
    "# Dropping Stations ID, because there is no need to manually index rows\n",
    "data.drop('Station ID', axis=1, inplace=True)"
   ]
  },
  {
   "cell_type": "code",
   "execution_count": 147,
   "metadata": {},
   "outputs": [
    {
     "name": "stdout",
     "output_type": "stream",
     "text": [
      "Value counts for Line:\n",
      "Line\n",
      "Blue line            49\n",
      "Pink line            38\n",
      "Yellow line          37\n",
      "Voilet line          34\n",
      "Red line             29\n",
      "Magenta line         25\n",
      "Aqua line            21\n",
      "Green line           21\n",
      "Rapid Metro          11\n",
      "Blue line branch      8\n",
      "Orange line           6\n",
      "Gray line             3\n",
      "Green line branch     3\n",
      "Name: count, dtype: int64\n",
      "\n",
      "Value counts for Station Layout:\n",
      "Station Layout\n",
      "Elevated       214\n",
      "Underground     68\n",
      "At-Grade         3\n",
      "Name: count, dtype: int64\n",
      "\n"
     ]
    }
   ],
   "source": [
    "# Checking for value counts in categorical attributes: Line & Station Layout.\n",
    "columns = ['Line','Station Layout']\n",
    "for column in columns:\n",
    "    print(f\"Value counts for {column}:\")\n",
    "    print(data[column].value_counts())\n",
    "    print()"
   ]
  },
  {
   "cell_type": "code",
   "execution_count": 148,
   "metadata": {},
   "outputs": [],
   "source": [
    "# Replacing 'line' to remove data redundancy\n",
    "data['Line'] = data['Line'].str.replace(' line','')\n",
    "\n",
    "# Removing branch to keep data consistency ('Green line branch' & 'Green line' surely represent one category) \n",
    "data['Line'] = data['Line'].replace({\n",
    "    'Green line branch': 'Green line',\n",
    "    'Blue line branch': 'Blue line'\n",
    "})"
   ]
  },
  {
   "cell_type": "code",
   "execution_count": 149,
   "metadata": {},
   "outputs": [],
   "source": [
    "# Replacing 'At-Grade' with 'Ground' for better data explanation\n",
    "data['Station Layout'] = data['Station Layout'].replace({\n",
    "    'At-Grade': 'Ground'\n",
    "})"
   ]
  },
  {
   "cell_type": "markdown",
   "metadata": {},
   "source": [
    "**3.2 Cleaning Column 'Station Name'** "
   ]
  },
  {
   "cell_type": "markdown",
   "metadata": {},
   "source": [
    "There is duplicate combinations of 'Latitude' and 'Longitude' data with different 'Station Name' which I considered as inconsistent data, as there can not be two different Stations in one reference point. So I used Opeen Street Map API to get more information about the coordinate."
   ]
  },
  {
   "cell_type": "code",
   "execution_count": 151,
   "metadata": {},
   "outputs": [],
   "source": [
    "# Function for making an API call to Open Street Map and returning information retrieved from the web\n",
    "# This function is time consuming for larger datasets since it makes an API call for each row at once\n",
    "def get_street_data(latitude, longitude):\n",
    "    url = f\"https://nominatim.openstreetmap.org/reverse?format=json&lat={latitude}&lon={longitude}&zoom=18&addressdetails=1\"\n",
    "    response = requests.get(url)\n",
    "    data = response.json()\n",
    "    #print(f\"URL for testing Open Street Map API {url}\")\n",
    "    return data"
   ]
  },
  {
   "cell_type": "code",
   "execution_count": 152,
   "metadata": {},
   "outputs": [
    {
     "name": "stdout",
     "output_type": "stream",
     "text": [
      "URL for testing Open Street Map API https://nominatim.openstreetmap.org/reverse?format=json&lat=28.4089049&lon=76.9155232&zoom=18&addressdetails=1\n",
      "\n",
      "Display name: Mewka, Sector 92, Gurgaon, Gurugram District, Haryana, 122505, India\n"
     ]
    }
   ],
   "source": [
    "latitude = 28.4089049\n",
    "longitude = 76.9155232\n",
    "\n",
    "street_data = get_street_data(latitude, longitude)\n",
    "station_name = street_data.get('display_name')\n",
    "print()\n",
    "print(f\"Display name: {station_name}\")"
   ]
  },
  {
   "cell_type": "code",
   "execution_count": 153,
   "metadata": {},
   "outputs": [
    {
     "name": "stdout",
     "output_type": "stream",
     "text": [
      "52 duplicates found.\n",
      "\n",
      "Duplicate combinations of latitude and longitude:\n",
      "\n",
      "                                       Station Name          Line  \\\n",
      "1                               Welcome [Conn: Red]          Pink   \n",
      "2                                       DLF Phase 3   Rapid Metro   \n",
      "10               Central Secretariat [Conn: Violet]        Yellow   \n",
      "18                                 Belvedere Towers   Rapid Metro   \n",
      "28                            Delta 1 Greater Noida          Aqua   \n",
      "31                     Kashmere Gate [Conn: Yellow]        Voilet   \n",
      "36   Dwarka Sector 21(First station) [Conn: Orange]          Blue   \n",
      "39                                    Old Faridabad        Voilet   \n",
      "54                                Inderlok Conn:Red         Green   \n",
      "57                                 Noida Sector 148          Aqua   \n",
      "62                                  Noida Sector 50          Aqua   \n",
      "66              Kashmere Gate [Conn: Violet,Yellow]           Red   \n",
      "71                                  Noida Sector 59          Blue   \n",
      "74                                  Noida Sector 62          Blue   \n",
      "77                     Noida Sector 52 [Conn: Aqua]          Blue   \n",
      "84                       Sikandarpur [Conn: Yellow]   Rapid Metro   \n",
      "85                                     GNIDA Office          Aqua   \n",
      "88                                  Noida Sector 61          Blue   \n",
      "95                                     Sector 55-66   Rapid Metro   \n",
      "96                           Terminal 1 IGI Airport       Magenta   \n",
      "99                                 Noida Sector 142          Aqua   \n",
      "102                                Noida Sector 147          Aqua   \n",
      "105              Central Secretariat [Conn: Yellow]        Voilet   \n",
      "111                        Kirti Nagar [Conn: Blue]  Green branch   \n",
      "115                                     Yamuna Bank   Blue branch   \n",
      "117                                      Cyber City   Rapid Metro   \n",
      "123                                Noida Sector 144          Aqua   \n",
      "127                                           Sarai        Voilet   \n",
      "141                            Welcome [Conn: Pink]           Red   \n",
      "146                                 Sector 54 Chowk   Rapid Metro   \n",
      "150                         Sadar Bazaar Cantonment       Magenta   \n",
      "162                                Noida Sector 145          Aqua   \n",
      "167                                    Sector 42-43   Rapid Metro   \n",
      "187                             Depot Greater Noida          Aqua   \n",
      "192                        Rajiv Chowk [Conn: Blue]        Yellow   \n",
      "194                                 Moulsari Avenue   Rapid Metro   \n",
      "195                    Kashmere Gate [Conn: Violet]        Yellow   \n",
      "197                                 South Extension          Pink   \n",
      "198                                     DLF Phase 2   Rapid Metro   \n",
      "201                     Lajpat Nagar [Conn: Violet]          Pink   \n",
      "208                      Rajiv Chowk [Conn: Yellow]          Blue   \n",
      "210                                      NSEZ Noida          Aqua   \n",
      "213                        New Delhi [Conn: Orange]        Yellow   \n",
      "234                                 Noida Sector 34          Blue   \n",
      "249        New Delhi-Airport Express [Conn: Yellow]        Orange   \n",
      "262                       Lajpat Nagar [Conn: Pink]        Voilet   \n",
      "271                                    Sector 53-54   Rapid Metro   \n",
      "273                                     DLF Phase 1   Rapid Metro   \n",
      "274                                     Yamuna Bank          Blue   \n",
      "275                       Kirti Nagar [Conn: Green]          Blue   \n",
      "278                   Dwarka Sector 21 [Conn: Blue]        Orange   \n",
      "279                          Inderlok [Conn: Green]           Red   \n",
      "\n",
      "         Latitude_Longitude  \n",
      "1          28.6718 77.27756  \n",
      "2           28.4936 77.0935  \n",
      "10        28.61474 77.21191  \n",
      "18          28.4936 77.0935  \n",
      "28       28.474388 77.50399  \n",
      "31         28.6675 77.22817  \n",
      "36        28.55226 77.05828  \n",
      "39    28.4808629 77.0848883  \n",
      "54        28.67319 77.16994  \n",
      "57   28.4758348 77.55447875  \n",
      "62      28.535517 77.391029  \n",
      "66         28.6675 77.22817  \n",
      "71    28.4808629 77.0848883  \n",
      "74    28.4808629 77.0848883  \n",
      "77    28.4808629 77.0848883  \n",
      "84          28.4936 77.0935  \n",
      "85       28.474388 77.50399  \n",
      "88    28.4808629 77.0848883  \n",
      "95          28.4936 77.0935  \n",
      "96    28.5771509 77.1111533  \n",
      "99   28.4758348 77.55447875  \n",
      "102   28.4089049 76.9155232  \n",
      "105       28.61474 77.21191  \n",
      "111       28.65575 77.15057  \n",
      "115       28.62331 77.26792  \n",
      "117         28.4936 77.0935  \n",
      "123   28.4089049 76.9155232  \n",
      "127   28.6517178 77.2219388  \n",
      "141        28.6718 77.27756  \n",
      "146         28.4936 77.0935  \n",
      "150   28.5771509 77.1111533  \n",
      "162   28.4089049 76.9155232  \n",
      "167         28.4936 77.0935  \n",
      "187      28.474388 77.50399  \n",
      "192       28.63282 77.21826  \n",
      "194         28.4936 77.0935  \n",
      "195        28.6675 77.22817  \n",
      "197   28.6517178 77.2219388  \n",
      "198         28.4936 77.0935  \n",
      "201       28.57079 77.23653  \n",
      "208       28.63282 77.21826  \n",
      "210     28.535517 77.391029  \n",
      "213       28.64307 77.22144  \n",
      "234   28.4808629 77.0848883  \n",
      "249       28.64307 77.22144  \n",
      "262       28.57079 77.23653  \n",
      "271         28.4936 77.0935  \n",
      "273         28.4936 77.0935  \n",
      "274       28.62331 77.26792  \n",
      "275       28.65575 77.15057  \n",
      "278       28.55226 77.05828  \n",
      "279       28.67319 77.16994  \n"
     ]
    }
   ],
   "source": [
    "# Generating a new feature 'Latitude_Longitude' to search for duplicate records\n",
    "data['Latitude_Longitude'] = data['Latitude'].astype(str) + ' ' + data['Longitude'].astype(str)\n",
    "\n",
    "# Checking for duplicate combinations of 'Latitude_Longitude'\n",
    "duplicate_combinations = data[data.duplicated(subset=['Latitude_Longitude'], keep=False)]\n",
    "duplicate_combinations_count = duplicate_combinations['Latitude_Longitude'].count()\n",
    "\n",
    "if not duplicate_combinations.empty:\n",
    "    print(f\"{duplicate_combinations_count} duplicates found.\\n\")\n",
    "    print(\"Duplicate combinations of latitude and longitude:\\n\")\n",
    "    print(duplicate_combinations[['Station Name','Line','Latitude_Longitude']])"
   ]
  },
  {
   "cell_type": "code",
   "execution_count": null,
   "metadata": {},
   "outputs": [],
   "source": [
    "# Function for fetching new station name\n",
    "def fetch_station_name(row):\n",
    "    street_data = get_street_data(row['Latitude'], row['Longitude'])\n",
    "    return street_data.get('display_name', None)\n",
    "\n",
    "data['New Station Name'] = data.apply(fetch_station_name, axis=1)"
   ]
  },
  {
   "cell_type": "code",
   "execution_count": 157,
   "metadata": {},
   "outputs": [],
   "source": [
    "data['New Station Name'] = data['New Station Name'].str.split(',').str[0]"
   ]
  },
  {
   "cell_type": "code",
   "execution_count": 158,
   "metadata": {},
   "outputs": [],
   "source": [
    "# Adding feature 'Status' for\n",
    "#data['Status'] = 'Unique'\n",
    "#data.loc[data[data.loc[:, ['Latitude', 'Longitude']].duplicated(keep=False)].index, 'Status'] = 'Duplicate'"
   ]
  },
  {
   "cell_type": "code",
   "execution_count": 159,
   "metadata": {},
   "outputs": [],
   "source": [
    "# Saving the processed dataframe into new folder destined for cleaned and processed data.\n",
    "data.to_csv('data_preprocessed\\\\Delhi-Metro-Network.csv')"
   ]
  }
 ],
 "metadata": {
  "kernelspec": {
   "display_name": "Python 3",
   "language": "python",
   "name": "python3"
  },
  "language_info": {
   "codemirror_mode": {
    "name": "ipython",
    "version": 3
   },
   "file_extension": ".py",
   "mimetype": "text/x-python",
   "name": "python",
   "nbconvert_exporter": "python",
   "pygments_lexer": "ipython3",
   "version": "3.11.1"
  }
 },
 "nbformat": 4,
 "nbformat_minor": 2
}
