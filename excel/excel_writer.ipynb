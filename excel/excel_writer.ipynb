{
 "cells": [
  {
   "cell_type": "markdown",
   "metadata": {},
   "source": [
    "### **1. Library Importing**"
   ]
  },
  {
   "cell_type": "code",
   "execution_count": 3,
   "metadata": {},
   "outputs": [],
   "source": [
    "import pandas as pd\n",
    "from openpyxl import Workbook\n",
    "from openpyxl.styles import PatternFill\n",
    "from openpyxl.styles import Border, Side\n",
    "from openpyxl.styles import PatternFill\n",
    "from openpyxl.formatting.rule import CellIsRule\n",
    "from openpyxl.styles import Font\n",
    "from openpyxl.styles import Alignment\n",
    "from openpyxl.formatting.rule import DataBarRule\n",
    "from openpyxl.styles import Color"
   ]
  },
  {
   "cell_type": "markdown",
   "metadata": {},
   "source": [
    "### **2. Writing to Excel Files**"
   ]
  },
  {
   "cell_type": "code",
   "execution_count": 4,
   "metadata": {},
   "outputs": [],
   "source": [
    "# Reading Metro data processed from data_processing.ipynb\n",
    "metro_data = pd.read_csv('C:\\\\Users\\\\Blina Smailaj\\\\Documents\\\\GitHub\\MetroNetworkAnalysis\\\\preprocessed_data\\\\Delhi-Metro-Network.csv')"
   ]
  },
  {
   "cell_type": "code",
   "execution_count": 5,
   "metadata": {},
   "outputs": [],
   "source": [
    "# Renaming column names for better display in Excel Table Headers\n",
    "new_names = {                   \n",
    "        'Distance': 'Distance from Start (km)', \n",
    "        'Station_Layout': 'Station Layout',\n",
    "        'Years_Open': 'Years Open',\n",
    "        'Station_Name': 'Station Name'\n",
    "}\n",
    "\n",
    "metro_data.rename(columns=new_names, inplace=True)"
   ]
  },
  {
   "cell_type": "code",
   "execution_count": 6,
   "metadata": {},
   "outputs": [],
   "source": [
    "# Creating a new workbook\n",
    "wb = Workbook()\n",
    "ws = wb.active"
   ]
  },
  {
   "cell_type": "code",
   "execution_count": 7,
   "metadata": {},
   "outputs": [],
   "source": [
    "# Inserting a row to insert a title for the Excel Sheet\n",
    "ws.insert_rows(1)\n",
    "\n",
    "# Title is written in the first cell which is then merged with untill the number of columns of the dataset\n",
    "title_cell = ws.cell(row=1, column=1, value=\"METRO STATIONS ANALYSIS WORKSHEET\")\n",
    "ws.merge_cells(start_row=1, start_column=1, end_row=1, end_column=len(metro_data.columns))\n",
    "title_cell.alignment = Alignment(horizontal='center', vertical='center')\n",
    "\n",
    "# Changing the font for display purposes\n",
    "font_family = \"Candara\"\n",
    "\n",
    "# Applying a background, new font, new thickness, new cell height and new alignment to the Title\n",
    "title_fill = PatternFill(start_color=\"215967\", end_color=\"215967\", fill_type=\"solid\")\n",
    "title_cell.fill = title_fill\n",
    "title_cell.font = Font(bold=True, color=\"FFFFFF\",name=font_family)\n",
    "title_cell.alignment = Alignment(horizontal='center', vertical='center')\n",
    "ws.row_dimensions[title_cell.row].height = 50\n"
   ]
  },
  {
   "cell_type": "code",
   "execution_count": 8,
   "metadata": {},
   "outputs": [],
   "source": [
    "# Writing headers of the CSV file to the worksheet\n",
    "\n",
    "# Starting from the first column and the second row and also giving them a border\n",
    "for col_id, column in enumerate(metro_data.columns, start=1):\n",
    "    header_cell = ws.cell(row=2, column=col_id, value=column)\n",
    "    header_cell.border = Border(left=Side(style='thin'), \n",
    "                                 right=Side(style='thin'), \n",
    "                                 top=Side(style='thin'), \n",
    "                                 bottom=Side(style='thin'))\n"
   ]
  },
  {
   "cell_type": "code",
   "execution_count": 9,
   "metadata": {},
   "outputs": [],
   "source": [
    "# Writing the data of the CSV into the worksheet\n",
    "\n",
    "for row_id, row in enumerate(metro_data.itertuples(), start=3): \n",
    "    for col_id, value in enumerate(row[1:], start=1):\n",
    "        cell = ws.cell(row=row_id, column=col_id, value=value)\n",
    "        cell.alignment = Alignment(horizontal='center', vertical='center')\n",
    "        cell.border = Border(left=Side(style='thin'), \n",
    "                             right=Side(style='thin'), \n",
    "                             top=Side(style='thin'), \n",
    "                             bottom=Side(style='thin'))\n",
    "        ws.row_dimensions[cell.row].height = 22"
   ]
  },
  {
   "cell_type": "code",
   "execution_count": 10,
   "metadata": {},
   "outputs": [],
   "source": [
    "# Creating conditional formatting colors for 'Line;\n",
    "conditional_format_colors = {\n",
    "    'Red': 'FF0000',\n",
    "    'Pink': 'FFC0CB',\n",
    "    'Magenta': 'FF00FF',\n",
    "    'Blue': '0000FF',\n",
    "    'Aqua': '00FFFF',\n",
    "    'Voilet': '8A2BE2',\n",
    "    'Yellow': 'FFFF00',\n",
    "    'Green': '008000',\n",
    "    'Gray': '808080',\n",
    "    'Orange': 'FFA500',\n",
    "}\n",
    "\n",
    "# Making fonts bold and giving color that they represent\n",
    "for line, color in conditional_format_colors.items():\n",
    "    font_color = color\n",
    "    rule = CellIsRule(operator=\"equal\", formula=[f'\"{line}\"'], stopIfTrue=True,\n",
    "                      font=Font(color=font_color, bold=True))\n",
    "    # Applying conditional formatting to length of data + 2 (+1 for column headers & +1 for sheet title)\n",
    "    ws.conditional_formatting.add(f\"F2:F{len(metro_data) + 2}\", rule)"
   ]
  },
  {
   "cell_type": "code",
   "execution_count": 11,
   "metadata": {},
   "outputs": [],
   "source": [
    "# Making A (Latitude) and B(Longitude) color light blue\n",
    "column_fill = PatternFill(start_color=\"C0EEEA\", end_color=\"C0EEEA\", fill_type=\"solid\")\n",
    "for row in ws.iter_rows(min_row=2, max_row=len(metro_data)+2, min_col=1, max_col=2):\n",
    "    for cell in row:\n",
    "        cell.fill = column_fill\n",
    "        # Giving them a bigger cell height\n",
    "        ws.row_dimensions[cell.row].height = 15"
   ]
  },
  {
   "cell_type": "code",
   "execution_count": 12,
   "metadata": {},
   "outputs": [],
   "source": [
    "# Filling Column Headers with a background color, gicing them a bold font, and a new font family\n",
    "header_fill = PatternFill(start_color=\"2AA297\", end_color=\"2AA297\", fill_type=\"solid\")\n",
    "font_color = color\n",
    "for cell in ws[2]:\n",
    "    cell.fill = header_fill\n",
    "    cell.font = Font(bold=True, color=\"FFFFFF\", name=font_family)\n",
    "    ws.row_dimensions[cell.row].height = 30\n",
    "    cell.alignment = Alignment(horizontal='center', vertical='center')"
   ]
  },
  {
   "cell_type": "code",
   "execution_count": 13,
   "metadata": {},
   "outputs": [],
   "source": [
    "# Finding the minimum and maximum values of (Distance from Start (km))\n",
    "min_value = min(metro_data['Distance from Start (km)'])\n",
    "max_value = max(metro_data['Distance from Start (km)'])\n",
    "\n",
    "# Assinging the RGB color of green to a variable\n",
    "green_color = Color(rgb=\"2AA297\")\n",
    "\n",
    "# Creating a data bar rule for column G (Distance from Start (km))\n",
    "data_bar_rule = DataBarRule(start_type=\"num\", start_value=min_value, end_type=\"num\", end_value=max_value, color=green_color)\n",
    "\n",
    "# Applying the data bar rule to column G\n",
    "ws.conditional_formatting.add(f\"G2:G{len(metro_data) + 2}\", data_bar_rule)"
   ]
  },
  {
   "cell_type": "code",
   "execution_count": 14,
   "metadata": {},
   "outputs": [],
   "source": [
    "# Adjusting the width's of all columns\n",
    "ws.column_dimensions['A'].width = 12\n",
    "ws.column_dimensions['B'].width = 12\n",
    "ws.column_dimensions['C'].width = 30\n",
    "ws.column_dimensions['D'].width = 20\n",
    "ws.column_dimensions['E'].width = 12\n",
    "ws.column_dimensions['F'].width = 16\n",
    "ws.column_dimensions['G'].width = 23"
   ]
  },
  {
   "cell_type": "code",
   "execution_count": 17,
   "metadata": {},
   "outputs": [],
   "source": [
    "# Saving workbook \n",
    "wb.save('C:\\\\Users\\\\Blina Smailaj\\\\Documents\\\\GitHub\\\\MetroNetworkAnalysis\\\\excel\\\\Delhi-Metro-Network-Formatted.xlsx')"
   ]
  },
  {
   "cell_type": "markdown",
   "metadata": {},
   "source": [
    "End of **conditional_formatting.ipynb.**\n",
    "\n",
    "- For processing the data go to  **\"data_processing.ipynb\"**\n",
    "\n",
    "- For inserting into sql go to  **\"sql\\sql_insertion.ipynb\"**\n",
    "\n",
    "- To see finished processed data go to **\"preprocessed_data\\Delhi-Metro-Network.csv\"**\n",
    "\n",
    "- To see formatted excel file go to **\"excel\\Delhi-Metro-Network-Formatted.csv\"**"
   ]
  }
 ],
 "metadata": {
  "kernelspec": {
   "display_name": "Python 3",
   "language": "python",
   "name": "python3"
  },
  "language_info": {
   "codemirror_mode": {
    "name": "ipython",
    "version": 3
   },
   "file_extension": ".py",
   "mimetype": "text/x-python",
   "name": "python",
   "nbconvert_exporter": "python",
   "pygments_lexer": "ipython3",
   "version": "3.11.1"
  }
 },
 "nbformat": 4,
 "nbformat_minor": 2
}
